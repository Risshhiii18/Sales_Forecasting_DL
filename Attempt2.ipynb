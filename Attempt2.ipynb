{
 "cells": [
  {
   "cell_type": "code",
   "execution_count": 1,
   "metadata": {},
   "outputs": [],
   "source": [
    "import pandas as pd\n",
    "import numpy as np\n",
    "import os"
   ]
  },
  {
   "cell_type": "code",
   "execution_count": 2,
   "metadata": {},
   "outputs": [
    {
     "data": {
      "text/html": [
       "<div>\n",
       "<style scoped>\n",
       "    .dataframe tbody tr th:only-of-type {\n",
       "        vertical-align: middle;\n",
       "    }\n",
       "\n",
       "    .dataframe tbody tr th {\n",
       "        vertical-align: top;\n",
       "    }\n",
       "\n",
       "    .dataframe thead th {\n",
       "        text-align: right;\n",
       "    }\n",
       "</style>\n",
       "<table border=\"1\" class=\"dataframe\">\n",
       "  <thead>\n",
       "    <tr style=\"text-align: right;\">\n",
       "      <th></th>\n",
       "      <th>HQ</th>\n",
       "      <th>Country</th>\n",
       "      <th>State_of_outlet</th>\n",
       "      <th>City_of_outlet</th>\n",
       "      <th>Month</th>\n",
       "      <th>Day</th>\n",
       "      <th>Year</th>\n",
       "      <th>Total_Sales</th>\n",
       "    </tr>\n",
       "  </thead>\n",
       "  <tbody>\n",
       "    <tr>\n",
       "      <th>0</th>\n",
       "      <td>Africa</td>\n",
       "      <td>Algeria</td>\n",
       "      <td>NaN</td>\n",
       "      <td>Algiers</td>\n",
       "      <td>1</td>\n",
       "      <td>1</td>\n",
       "      <td>1995</td>\n",
       "      <td>64.2</td>\n",
       "    </tr>\n",
       "    <tr>\n",
       "      <th>1</th>\n",
       "      <td>Africa</td>\n",
       "      <td>Algeria</td>\n",
       "      <td>NaN</td>\n",
       "      <td>Algiers</td>\n",
       "      <td>1</td>\n",
       "      <td>2</td>\n",
       "      <td>1995</td>\n",
       "      <td>49.4</td>\n",
       "    </tr>\n",
       "    <tr>\n",
       "      <th>2</th>\n",
       "      <td>Africa</td>\n",
       "      <td>Algeria</td>\n",
       "      <td>NaN</td>\n",
       "      <td>Algiers</td>\n",
       "      <td>1</td>\n",
       "      <td>3</td>\n",
       "      <td>1995</td>\n",
       "      <td>48.8</td>\n",
       "    </tr>\n",
       "    <tr>\n",
       "      <th>3</th>\n",
       "      <td>Africa</td>\n",
       "      <td>Algeria</td>\n",
       "      <td>NaN</td>\n",
       "      <td>Algiers</td>\n",
       "      <td>1</td>\n",
       "      <td>4</td>\n",
       "      <td>1995</td>\n",
       "      <td>46.4</td>\n",
       "    </tr>\n",
       "    <tr>\n",
       "      <th>4</th>\n",
       "      <td>Africa</td>\n",
       "      <td>Algeria</td>\n",
       "      <td>NaN</td>\n",
       "      <td>Algiers</td>\n",
       "      <td>1</td>\n",
       "      <td>5</td>\n",
       "      <td>1995</td>\n",
       "      <td>47.9</td>\n",
       "    </tr>\n",
       "  </tbody>\n",
       "</table>\n",
       "</div>"
      ],
      "text/plain": [
       "       HQ  Country State_of_outlet City_of_outlet  Month  Day  Year  \\\n",
       "0  Africa  Algeria             NaN        Algiers      1    1  1995   \n",
       "1  Africa  Algeria             NaN        Algiers      1    2  1995   \n",
       "2  Africa  Algeria             NaN        Algiers      1    3  1995   \n",
       "3  Africa  Algeria             NaN        Algiers      1    4  1995   \n",
       "4  Africa  Algeria             NaN        Algiers      1    5  1995   \n",
       "\n",
       "   Total_Sales  \n",
       "0         64.2  \n",
       "1         49.4  \n",
       "2         48.8  \n",
       "3         46.4  \n",
       "4         47.9  "
      ]
     },
     "execution_count": 2,
     "metadata": {},
     "output_type": "execute_result"
    }
   ],
   "source": [
    "path = \"C:/Users/chuda/Bootcamp_project/Deep Learing/Level2_Problem3/training\" # use your path\n",
    "\n",
    "df_list = [] \n",
    "frame = pd.DataFrame()\n",
    "for file in os.listdir(path):\n",
    "    df = pd.read_csv(path+'/'+file)\n",
    "    df_list.append(df) \n",
    "frame = pd.concat(df_list) \n",
    "dff = frame\n",
    "\n",
    "dff.head()"
   ]
  },
  {
   "cell_type": "code",
   "execution_count": 3,
   "metadata": {},
   "outputs": [],
   "source": [
    "dft = pd.read_excel('test_data (4).xlsx')"
   ]
  },
  {
   "cell_type": "code",
   "execution_count": 4,
   "metadata": {},
   "outputs": [],
   "source": [
    "dff.dropna(axis = 1, inplace = True)\n",
    "dft.dropna(axis = 1, inplace = True)"
   ]
  },
  {
   "cell_type": "code",
   "execution_count": 5,
   "metadata": {},
   "outputs": [],
   "source": [
    "from sklearn.preprocessing import LabelEncoder"
   ]
  },
  {
   "cell_type": "code",
   "execution_count": 6,
   "metadata": {},
   "outputs": [],
   "source": [
    "le = LabelEncoder()\n",
    "dff['HQ'] = le.fit_transform(dff['HQ'])\n",
    "dft['HQ'] = le.transform(dft['HQ'])\n",
    "dff['Country'] = le.fit_transform(dff['Country'])\n",
    "dft['Country'] = le.transform(dft['Country'])\n",
    "dff['City_of_outlet'] = le.fit_transform(dff['City_of_outlet'])\n",
    "dft['City_of_outlet'] = le.transform(dft['City_of_outlet'])"
   ]
  },
  {
   "cell_type": "code",
   "execution_count": 7,
   "metadata": {},
   "outputs": [],
   "source": [
    "y = dff['Total_Sales']\n",
    "X = dff.drop(['Total_Sales','Year'], axis = 1)"
   ]
  },
  {
   "cell_type": "code",
   "execution_count": 8,
   "metadata": {},
   "outputs": [],
   "source": [
    "from sklearn.model_selection import train_test_split"
   ]
  },
  {
   "cell_type": "code",
   "execution_count": 9,
   "metadata": {},
   "outputs": [],
   "source": [
    "x_train,x_test,y_train,y_test = train_test_split(X,y,test_size = 0.3, random_state=0)"
   ]
  },
  {
   "cell_type": "code",
   "execution_count": 10,
   "metadata": {},
   "outputs": [],
   "source": [
    "from sklearn.preprocessing import StandardScaler"
   ]
  },
  {
   "cell_type": "code",
   "execution_count": 11,
   "metadata": {},
   "outputs": [],
   "source": [
    "sc = StandardScaler()"
   ]
  },
  {
   "cell_type": "code",
   "execution_count": 12,
   "metadata": {},
   "outputs": [],
   "source": [
    "x_train = sc.fit_transform(x_train)\n",
    "x_test = sc.transform(x_test)"
   ]
  },
  {
   "cell_type": "code",
   "execution_count": 13,
   "metadata": {},
   "outputs": [],
   "source": [
    "x_train = x_train.reshape((x_train.shape[0],x_train.shape[1],1))\n",
    "x_test = x_test.reshape((x_test.shape[0],x_test.shape[1],1))"
   ]
  },
  {
   "cell_type": "code",
   "execution_count": 16,
   "metadata": {},
   "outputs": [],
   "source": [
    "step = len(X.columns)"
   ]
  },
  {
   "cell_type": "code",
   "execution_count": 14,
   "metadata": {},
   "outputs": [
    {
     "name": "stderr",
     "output_type": "stream",
     "text": [
      "Using TensorFlow backend.\n"
     ]
    }
   ],
   "source": [
    "from keras.models import Sequential\n",
    "from keras.layers import LSTM,Dense,Activation\n",
    "from keras.activations import relu"
   ]
  },
  {
   "cell_type": "code",
   "execution_count": 37,
   "metadata": {},
   "outputs": [],
   "source": [
    "model = Sequential()\n",
    "model.add(LSTM(16,input_shape=(step,1)))\n",
    "model.add(Dense(1))\n",
    "model.compile(optimizer='adam', loss='mse')\n"
   ]
  },
  {
   "cell_type": "code",
   "execution_count": 38,
   "metadata": {},
   "outputs": [
    {
     "name": "stdout",
     "output_type": "stream",
     "text": [
      "Train on 1782967 samples, validate on 764129 samples\n",
      "Epoch 1/20\n",
      "1782967/1782967 [==============================] - 23s 13us/step - loss: 3832.1605 - val_loss: 3328.1728\n",
      "Epoch 2/20\n",
      "1782967/1782967 [==============================] - 22s 12us/step - loss: 3127.4802 - val_loss: 2960.0831\n",
      "Epoch 3/20\n",
      "1782967/1782967 [==============================] - 22s 12us/step - loss: 2819.5092 - val_loss: 2689.7774\n",
      "Epoch 4/20\n",
      "1782967/1782967 [==============================] - 21s 12us/step - loss: 2571.1317 - val_loss: 2460.5147\n",
      "Epoch 5/20\n",
      "1782967/1782967 [==============================] - 21s 12us/step - loss: 2357.1729 - val_loss: 2260.8229\n",
      "Epoch 6/20\n",
      "1782967/1782967 [==============================] - 21s 12us/step - loss: 2169.9467 - val_loss: 2085.5014\n",
      "Epoch 7/20\n",
      "1782967/1782967 [==============================] - 22s 12us/step - loss: 2005.3983 - val_loss: 1931.3462\n",
      "Epoch 8/20\n",
      "1782967/1782967 [==============================] - 21s 12us/step - loss: 1860.8101 - val_loss: 1796.0310\n",
      "Epoch 9/20\n",
      "1782967/1782967 [==============================] - 22s 12us/step - loss: 1734.1083 - val_loss: 1677.6938\n",
      "Epoch 10/20\n",
      "1782967/1782967 [==============================] - 22s 12us/step - loss: 1623.5768 - val_loss: 1574.7465\n",
      "Epoch 11/20\n",
      "1782967/1782967 [==============================] - 22s 12us/step - loss: 1527.7227 - val_loss: 1485.7794\n",
      "Epoch 12/20\n",
      "1782967/1782967 [==============================] - 21s 12us/step - loss: 1445.2002 - val_loss: 1409.5060\n",
      "Epoch 13/20\n",
      "1782967/1782967 [==============================] - 21s 12us/step - loss: 1374.7689 - val_loss: 1344.7274\n",
      "Epoch 14/20\n",
      "1782967/1782967 [==============================] - 22s 12us/step - loss: 1315.2624 - val_loss: 1290.3078\n",
      "Epoch 15/20\n",
      "1782967/1782967 [==============================] - 22s 12us/step - loss: 1265.5713 - val_loss: 1245.1625\n",
      "Epoch 16/20\n",
      "1782967/1782967 [==============================] - 22s 12us/step - loss: 1224.6318 - val_loss: 1208.2486\n",
      "Epoch 17/20\n",
      "1782967/1782967 [==============================] - 22s 12us/step - loss: 1191.4198 - val_loss: 1178.5609\n",
      "Epoch 18/20\n",
      "1782967/1782967 [==============================] - 22s 12us/step - loss: 1164.9485 - val_loss: 1155.1318\n",
      "Epoch 19/20\n",
      "1782967/1782967 [==============================] - 22s 12us/step - loss: 1144.2710 - val_loss: 1137.0368\n",
      "Epoch 20/20\n",
      "1782967/1782967 [==============================] - 22s 12us/step - loss: 1128.4858 - val_loss: 1123.3993\n"
     ]
    }
   ],
   "source": [
    "history = model.fit(x_train,y_train,epochs=20,batch_size=10000,validation_data=(x_test,y_test),shuffle=False)"
   ]
  },
  {
   "cell_type": "code",
   "execution_count": 39,
   "metadata": {},
   "outputs": [],
   "source": [
    "pred = model.predict(x_test)"
   ]
  },
  {
   "cell_type": "code",
   "execution_count": 40,
   "metadata": {},
   "outputs": [
    {
     "data": {
      "text/plain": [
       "[<matplotlib.lines.Line2D at 0x2083f65dec8>]"
      ]
     },
     "execution_count": 40,
     "metadata": {},
     "output_type": "execute_result"
    },
    {
     "data": {
      "image/png": "[encoded data removed]",
      "text/plain": [
       "<Figure size 432x288 with 1 Axes>"
      ]
     },
     "metadata": {
      "needs_background": "light"
     },
     "output_type": "display_data"
    }
   ],
   "source": [
    "import matplotlib.pyplot as plt\n",
    "plt.plot(history.history['loss'])\n",
    "plt.plot(history.history['val_loss'])"
   ]
  },
  {
   "cell_type": "code",
   "execution_count": 41,
   "metadata": {},
   "outputs": [],
   "source": [
    "from sklearn import metrics"
   ]
  },
  {
   "cell_type": "code",
   "execution_count": 42,
   "metadata": {},
   "outputs": [
    {
     "name": "stdout",
     "output_type": "stream",
     "text": [
      "1123.3992765159685\n"
     ]
    }
   ],
   "source": [
    "print(metrics.mean_squared_error(y_test,pred))"
   ]
  },
  {
   "cell_type": "code",
   "execution_count": 43,
   "metadata": {},
   "outputs": [
    {
     "name": "stdout",
     "output_type": "stream",
     "text": [
      "33.517148991463586\n"
     ]
    }
   ],
   "source": [
    "print(np.sqrt(metrics.mean_squared_error(y_test,pred)))"
   ]
  },
  {
   "cell_type": "code",
   "execution_count": 44,
   "metadata": {},
   "outputs": [],
   "source": [
    "df_t = dft[X.columns]"
   ]
  },
  {
   "cell_type": "code",
   "execution_count": 45,
   "metadata": {},
   "outputs": [],
   "source": [
    "x1 = sc.fit_transform(X)\n",
    "df_t1 = sc.transform(df_t)"
   ]
  },
  {
   "cell_type": "code",
   "execution_count": 46,
   "metadata": {},
   "outputs": [],
   "source": [
    "df_t1 = df_t1.reshape((df_t1.shape[0],df_t1.shape[1],1))"
   ]
  },
  {
   "cell_type": "code",
   "execution_count": 47,
   "metadata": {},
   "outputs": [],
   "source": [
    "predd = model.predict(df_t1)"
   ]
  },
  {
   "cell_type": "code",
   "execution_count": 48,
   "metadata": {},
   "outputs": [],
   "source": [
    "pd.DataFrame(predd, index = dft['ID']).to_csv(\"Attempt316.csv\")"
   ]
  },
  {
   "cell_type": "code",
   "execution_count": null,
   "metadata": {},
   "outputs": [],
   "source": []
  }
 ],
 "metadata": {
  "kernelspec": {
   "display_name": "Python 3",
   "language": "python",
   "name": "python3"
  },
  "language_info": {
   "codemirror_mode": {
    "name": "ipython",
    "version": 3
   },
   "file_extension": ".py",
   "mimetype": "text/x-python",
   "name": "python",
   "nbconvert_exporter": "python",
   "pygments_lexer": "ipython3",
   "version": "3.7.7"
  }
 },
 "nbformat": 4,
 "nbformat_minor": 4
}
